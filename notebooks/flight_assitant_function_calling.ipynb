{
 "cells": [
  {
   "cell_type": "code",
   "execution_count": 1,
   "metadata": {
    "dotnet_interactive": {
     "language": "csharp"
    },
    "polyglot_notebook": {
     "kernelName": "csharp"
    }
   },
   "outputs": [],
   "source": [
    "import time\n",
    "import os\n",
    "from dotenv import load_dotenv\n",
    "\n",
    "from openai import AzureOpenAI\n",
    "\n",
    "# gets API Key from environment variable OPENAI_API_KEY\n",
    "load_dotenv()\n",
    "api_endpoint = os.getenv(\"OPENAI_URI\")\n",
    "api_key = os.getenv(\"OPENAI_KEY\")\n",
    "api_version = os.getenv(\"OPENAI_VERSION\")\n",
    "api_deployment_name = os.getenv(\"OPENAI_GPT_DEPLOYMENT\")\n",
    "\n",
    "\n",
    "client = AzureOpenAI(api_key=api_key,\n",
    "api_version=api_version,\n",
    "azure_endpoint=api_endpoint)"
   ]
  },
  {
   "cell_type": "code",
   "execution_count": 2,
   "metadata": {},
   "outputs": [],
   "source": [
    "import datetime\n",
    "\n",
    "\n",
    "def get_flight_details(flight_number):\n",
    "    url = \"https://www.southwest.com/api/air-operations/v1/air-operations/api/air/flights/path\"\n",
    "    headers = {\n",
    "        \"X-Api-Key\" : \"\" # Add your API key here\n",
    "    }\n",
    "    request_body = {\n",
    "        \"departureDate\": datetime.date.today().strftime(\"%Y-%m-%d\"),\n",
    "        \"flightNumber\":{flight_number},\n",
    "        \"application\":\"air-flight-status\",\n",
    "        \"site\":\"southwest\"\n",
    "    }\n",
    "    \n",
    "    return f\"\"\"Here is the flight information for flight number {flight_number}:\\n\n",
    "            - The airline name is : Southwest\n",
    "            - The departure date is : {datetime.date.today().strftime(\"%Y-%m-%d\")}\n",
    "            - The flight status is : On Time\n",
    "    \"\"\"        \n",
    "\n"
   ]
  },
  {
   "cell_type": "code",
   "execution_count": 4,
   "metadata": {},
   "outputs": [
    {
     "data": {
      "text/plain": [
       "'Here is the flight information for flight number 2348:\\n\\n            - The airline name is : Southwest\\n            - The departure date is : 2024-02-29\\n            - The flight status is : On Time\\n    '"
      ]
     },
     "execution_count": 4,
     "metadata": {},
     "output_type": "execute_result"
    }
   ],
   "source": [
    "get_flight_details(2348)"
   ]
  },
  {
   "cell_type": "code",
   "execution_count": 5,
   "metadata": {},
   "outputs": [
    {
     "name": "stdout",
     "output_type": "stream",
     "text": [
      "gpt-4\n"
     ]
    },
    {
     "data": {
      "text/plain": [
       "Assistant(id='asst_h8mlzpuroXC6QxV912F39q52', created_at=1709249332, description=None, file_ids=[], instructions=\"You are a flight assistant. If you are asked about a flight, use the flight number user provided and get_flight_details function to get the information about the flight and then answer user's question.\", metadata={}, model='gpt-4', name='Flight Assistant', object='assistant', tools=[ToolFunction(function=FunctionDefinition(name='get_flight_details', description='This function takes a flight number as input and returns the flight details.', parameters={'type': 'object', 'properties': {'flight_number': {'type': 'string'}}}), type='function')])"
      ]
     },
     "execution_count": 5,
     "metadata": {},
     "output_type": "execute_result"
    }
   ],
   "source": [
    "assistant = None\n",
    "print(api_deployment_name)\n",
    "\n",
    "try:\n",
    "    assistant = client.beta.assistants.create(\n",
    "    name=\"Flight Assistant\",\n",
    "    instructions=\"You are a flight assistant. If you are asked about a flight, use the flight number user provided and get_flight_details function to get the information about the flight and then answer user's question.\",\n",
    "    tools=[{\n",
    "        \"type\": \"function\",\n",
    "        \"function\": {\n",
    "            \"name\" : \"get_flight_details\",\n",
    "            \"description\" : \"This function takes a flight number as input and returns the flight details.\",\n",
    "            \"parameters\" : {\n",
    "                \"type\" : \"object\",\n",
    "                \"properties\" : {\n",
    "                    \"flight_number\" : {\n",
    "                        \"type\":\"string\"\n",
    "                        }\n",
    "                    }    \n",
    "                }\n",
    "            }\n",
    "        }],\n",
    "    model=api_deployment_name,\n",
    ")\n",
    "except Exception as e:\n",
    "    print(e)\n",
    "assistant    "
   ]
  },
  {
   "cell_type": "code",
   "execution_count": 10,
   "metadata": {},
   "outputs": [
    {
     "data": {
      "text/plain": [
       "Thread(id='thread_1Md3cgZBdGbSohoH1Qv3BfxH', created_at=1709249426, metadata={}, object='thread')"
      ]
     },
     "execution_count": 10,
     "metadata": {},
     "output_type": "execute_result"
    }
   ],
   "source": [
    "thread = client.beta.threads.create()\n",
    "thread"
   ]
  },
  {
   "cell_type": "code",
   "execution_count": 11,
   "metadata": {},
   "outputs": [],
   "source": [
    "run=client.beta.threads.runs.create(\n",
    "    assistant_id=assistant.id,\n",
    "    thread_id=thread.id,\n",
    "    instructions=\"What is the flight status of flight number 2348?\"\n",
    ")\n"
   ]
  },
  {
   "cell_type": "code",
   "execution_count": 13,
   "metadata": {},
   "outputs": [
    {
     "name": "stdout",
     "output_type": "stream",
     "text": [
      "printing run\n"
     ]
    },
    {
     "data": {
      "text/plain": [
       "Run(id='run_V9OXkpvr5s7TYsUTVVKvtUHh', assistant_id='asst_h8mlzpuroXC6QxV912F39q52', cancelled_at=None, completed_at=None, created_at=1709249427, expires_at=1709250027, failed_at=None, file_ids=[], instructions='What is the flight status of flight number 2348?', last_error=None, metadata={}, model='gpt-4', object='thread.run', required_action=RequiredAction(submit_tool_outputs=RequiredActionSubmitToolOutputs(tool_calls=[RequiredActionFunctionToolCall(id='call_DahiPSIwzmuVPcjJM6QYkUpb', function=Function(arguments='{\\n  \"flight_number\": \"2348\"\\n}', name='get_flight_details'), type='function')]), type='submit_tool_outputs'), started_at=1709249428, status='requires_action', thread_id='thread_1Md3cgZBdGbSohoH1Qv3BfxH', tools=[ToolAssistantToolsFunction(function=FunctionDefinition(name='get_flight_details', description='This function takes a flight number as input and returns the flight details.', parameters={'type': 'object', 'properties': {'flight_number': {'type': 'string'}}}), type='function')], usage=None)"
      ]
     },
     "execution_count": 13,
     "metadata": {},
     "output_type": "execute_result"
    }
   ],
   "source": [
    "print(\"printing run\")\n",
    "while True:\n",
    "    run = client.beta.threads.runs.retrieve(\n",
    "\n",
    "        thread_id=thread.id,\n",
    "        run_id=run.id\n",
    "    )\n",
    "    if run.status == \"requires_action\":\n",
    "        break\n",
    "run "
   ]
  },
  {
   "cell_type": "code",
   "execution_count": 14,
   "metadata": {},
   "outputs": [
    {
     "data": {
      "text/plain": [
       "[RequiredActionFunctionToolCall(id='call_DahiPSIwzmuVPcjJM6QYkUpb', function=Function(arguments='{\\n  \"flight_number\": \"2348\"\\n}', name='get_flight_details'), type='function')]"
      ]
     },
     "execution_count": 14,
     "metadata": {},
     "output_type": "execute_result"
    }
   ],
   "source": [
    "tool_calls = run.required_action.submit_tool_outputs.tool_calls\n",
    "tool_calls"
   ]
  },
  {
   "cell_type": "code",
   "execution_count": 16,
   "metadata": {},
   "outputs": [],
   "source": [
    "import json\n",
    "def get_output_for_tool_call(tool_calls):\n",
    "    flight_number = json.loads(tool_calls.function.arguments)[\"flight_number\"]\n",
    "    return {\n",
    "        \"tool_call_id\" : tool_calls.id,\n",
    "        \"output\" :  get_flight_details(flight_number)\n",
    "    }\n",
    "\n"
   ]
  },
  {
   "cell_type": "code",
   "execution_count": 17,
   "metadata": {},
   "outputs": [],
   "source": [
    "tool_outputs = map(get_output_for_tool_call, tool_calls)"
   ]
  },
  {
   "cell_type": "code",
   "execution_count": 18,
   "metadata": {},
   "outputs": [
    {
     "data": {
      "text/plain": [
       "[{'tool_call_id': 'call_DahiPSIwzmuVPcjJM6QYkUpb',\n",
       "  'output': 'Here is the flight information for flight number 2348:\\n\\n            - The airline name is : Southwest\\n            - The departure date is : 2024-02-29\\n            - The flight status is : On Time\\n    '}]"
      ]
     },
     "execution_count": 18,
     "metadata": {},
     "output_type": "execute_result"
    }
   ],
   "source": [
    "tool_outputs = list(tool_outputs)\n",
    "tool_outputs"
   ]
  },
  {
   "cell_type": "code",
   "execution_count": 19,
   "metadata": {},
   "outputs": [],
   "source": [
    "run = client.beta.threads.runs.submit_tool_outputs(\n",
    "    thread_id=thread.id,\n",
    "    run_id=run.id,\n",
    "    tool_outputs=tool_outputs\n",
    ")"
   ]
  },
  {
   "cell_type": "code",
   "execution_count": 22,
   "metadata": {},
   "outputs": [
    {
     "data": {
      "text/plain": [
       "'queued'"
      ]
     },
     "execution_count": 22,
     "metadata": {},
     "output_type": "execute_result"
    }
   ],
   "source": [
    "run.status"
   ]
  },
  {
   "cell_type": "code",
   "execution_count": 23,
   "metadata": {},
   "outputs": [
    {
     "data": {
      "text/plain": [
       "SyncCursorPage[ThreadMessage](data=[ThreadMessage(id='msg_4WiHfUbMlpQtvUUMaCDwdYcN', assistant_id='asst_h8mlzpuroXC6QxV912F39q52', content=[MessageContentText(text=Text(annotations=[], value='The flight status for flight number 2348 is as follows:\\n\\n- Airline: Southwest\\n- Departure Date: February 29, 2024\\n- Flight Status: On Time'), type='text')], created_at=1709249864, file_ids=[], metadata={}, object='thread.message', role='assistant', run_id='run_V9OXkpvr5s7TYsUTVVKvtUHh', thread_id='thread_1Md3cgZBdGbSohoH1Qv3BfxH')], object='list', first_id='msg_4WiHfUbMlpQtvUUMaCDwdYcN', last_id='msg_4WiHfUbMlpQtvUUMaCDwdYcN', has_more=False)"
      ]
     },
     "execution_count": 23,
     "metadata": {},
     "output_type": "execute_result"
    }
   ],
   "source": [
    "message = client.beta.threads.messages.list(\n",
    "    thread_id=thread.id\n",
    ")\n",
    "\n",
    "message"
   ]
  }
 ],
 "metadata": {
  "kernelspec": {
   "display_name": "Python 3",
   "language": "python",
   "name": "python3"
  },
  "language_info": {
   "codemirror_mode": {
    "name": "ipython",
    "version": 3
   },
   "file_extension": ".py",
   "mimetype": "text/x-python",
   "name": "python",
   "nbconvert_exporter": "python",
   "pygments_lexer": "ipython3",
   "version": "3.12.6"
  },
  "polyglot_notebook": {
   "kernelInfo": {
    "defaultKernelName": "csharp",
    "items": [
     {
      "aliases": [],
      "languageName": "csharp",
      "name": "csharp"
     }
    ]
   }
  }
 },
 "nbformat": 4,
 "nbformat_minor": 2
}
